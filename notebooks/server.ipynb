{
 "cells": [
  {
   "cell_type": "code",
   "execution_count": 1,
   "metadata": {},
   "outputs": [
    {
     "name": "stderr",
     "output_type": "stream",
     "text": [
      "/Users/rong/Desktop/repos/fastai-lesson2/.env/lib/python3.12/site-packages/tqdm/auto.py:21: TqdmWarning: IProgress not found. Please update jupyter and ipywidgets. See https://ipywidgets.readthedocs.io/en/stable/user_install.html\n",
      "  from .autonotebook import tqdm as notebook_tqdm\n"
     ]
    },
    {
     "data": {
      "text/plain": [
       "'3.50.0'"
      ]
     },
     "execution_count": 1,
     "metadata": {},
     "output_type": "execute_result"
    }
   ],
   "source": [
    "import gradio as gr\n",
    "gr.__version__"
   ]
  },
  {
   "cell_type": "markdown",
   "metadata": {},
   "source": []
  },
  {
   "cell_type": "code",
   "execution_count": 3,
   "metadata": {},
   "outputs": [],
   "source": [
    "from fastai.vision.all import *"
   ]
  },
  {
   "cell_type": "code",
   "execution_count": 4,
   "metadata": {},
   "outputs": [
    {
     "name": "stderr",
     "output_type": "stream",
     "text": [
      "/Users/rong/Desktop/repos/fastai-lesson2/.env/lib/python3.12/site-packages/fastai/learner.py:455: UserWarning: load_learner` uses Python's insecure pickle module, which can execute malicious arbitrary code when loading. Only load files you trust.\n",
      "If you only need to load model weights and optimizer state, use the safe `Learner.load` instead.\n",
      "  warn(\"load_learner` uses Python's insecure pickle module, which can execute malicious arbitrary code when loading. Only load files you trust.\\nIf you only need to load model weights and optimizer state, use the safe `Learner.load` instead.\")\n"
     ]
    }
   ],
   "source": [
    "learn = load_learner('model.pkl')"
   ]
  },
  {
   "cell_type": "markdown",
   "metadata": {},
   "source": [
    "define a prediction function"
   ]
  },
  {
   "cell_type": "code",
   "execution_count": 6,
   "metadata": {},
   "outputs": [],
   "source": [
    "labels = learn.dls.vocab\n",
    "def predict(img):\n",
    "    img = PILImage.create(img)\n",
    "    pred,pred_idx,probs = learn.predict(img)\n",
    "    return {labels[i]: float(probs[i]) for i in range(len(labels))}"
   ]
  },
  {
   "cell_type": "markdown",
   "metadata": {},
   "source": [
    "Create a Gradio interface"
   ]
  },
  {
   "cell_type": "code",
   "execution_count": 7,
   "metadata": {},
   "outputs": [
    {
     "name": "stderr",
     "output_type": "stream",
     "text": [
      "/var/folders/9h/0y5x8lz50_91q3vx4bly1x_40000gn/T/ipykernel_24528/3716399485.py:1: GradioDeprecationWarning: Usage of gradio.inputs is deprecated, and will not be supported in the future, please import your component from gradio.components\n",
      "  gr.Interface(fn=predict, inputs=gr.inputs.Image(shape=(512, 512)), outputs=gr.outputs.Label(num_top_classes=3)).launch(share=True)\n",
      "/var/folders/9h/0y5x8lz50_91q3vx4bly1x_40000gn/T/ipykernel_24528/3716399485.py:1: GradioDeprecationWarning: `optional` parameter is deprecated, and it has no effect\n",
      "  gr.Interface(fn=predict, inputs=gr.inputs.Image(shape=(512, 512)), outputs=gr.outputs.Label(num_top_classes=3)).launch(share=True)\n",
      "/var/folders/9h/0y5x8lz50_91q3vx4bly1x_40000gn/T/ipykernel_24528/3716399485.py:1: GradioDeprecationWarning: Usage of gradio.outputs is deprecated, and will not be supported in the future, please import your components from gradio.components\n",
      "  gr.Interface(fn=predict, inputs=gr.inputs.Image(shape=(512, 512)), outputs=gr.outputs.Label(num_top_classes=3)).launch(share=True)\n",
      "/var/folders/9h/0y5x8lz50_91q3vx4bly1x_40000gn/T/ipykernel_24528/3716399485.py:1: GradioUnusedKwargWarning: You have unused kwarg parameters in Label, please remove them: {'type': 'auto'}\n",
      "  gr.Interface(fn=predict, inputs=gr.inputs.Image(shape=(512, 512)), outputs=gr.outputs.Label(num_top_classes=3)).launch(share=True)\n"
     ]
    },
    {
     "name": "stdout",
     "output_type": "stream",
     "text": [
      "Running on local URL:  http://127.0.0.1:7860\n",
      "IMPORTANT: You are using gradio version 3.50.0, however version 4.44.1 is available, please upgrade.\n",
      "--------\n",
      "Running on public URL: https://f4b271e3755c527535.gradio.live\n",
      "\n",
      "This share link expires in 72 hours. For free permanent hosting and GPU upgrades, run `gradio deploy` from Terminal to deploy to Spaces (https://huggingface.co/spaces)\n"
     ]
    },
    {
     "data": {
      "text/html": [
       "<div><iframe src=\"https://f4b271e3755c527535.gradio.live\" width=\"100%\" height=\"500\" allow=\"autoplay; camera; microphone; clipboard-read; clipboard-write;\" frameborder=\"0\" allowfullscreen></iframe></div>"
      ],
      "text/plain": [
       "<IPython.core.display.HTML object>"
      ]
     },
     "metadata": {},
     "output_type": "display_data"
    },
    {
     "data": {
      "text/plain": []
     },
     "execution_count": 7,
     "metadata": {},
     "output_type": "execute_result"
    },
    {
     "data": {
      "text/html": [
       "\n",
       "<style>\n",
       "    /* Turns off some styling */\n",
       "    progress {\n",
       "        /* gets rid of default border in Firefox and Opera. */\n",
       "        border: none;\n",
       "        /* Needs to be in here for Safari polyfill so background images work as expected. */\n",
       "        background-size: auto;\n",
       "    }\n",
       "    progress:not([value]), progress:not([value])::-webkit-progress-bar {\n",
       "        background: repeating-linear-gradient(45deg, #7e7e7e, #7e7e7e 10px, #5c5c5c 10px, #5c5c5c 20px);\n",
       "    }\n",
       "    .progress-bar-interrupted, .progress-bar-interrupted::-webkit-progress-bar {\n",
       "        background: #F44336;\n",
       "    }\n",
       "</style>\n"
      ],
      "text/plain": [
       "<IPython.core.display.HTML object>"
      ]
     },
     "metadata": {},
     "output_type": "display_data"
    },
    {
     "data": {
      "text/html": [],
      "text/plain": [
       "<IPython.core.display.HTML object>"
      ]
     },
     "metadata": {},
     "output_type": "display_data"
    }
   ],
   "source": [
    "gr.Interface(fn=predict, inputs=gr.inputs.Image(shape=(512, 512)), outputs=gr.outputs.Label(num_top_classes=3)).launch(share=True)"
   ]
  },
  {
   "cell_type": "code",
   "execution_count": 8,
   "metadata": {},
   "outputs": [
    {
     "name": "stdout",
     "output_type": "stream",
     "text": [
      "Requirement already satisfied: gradio_client in /Users/rong/Desktop/repos/fastai-lesson2/.env/lib/python3.12/site-packages (0.6.1)\n",
      "Requirement already satisfied: fsspec in /Users/rong/Desktop/repos/fastai-lesson2/.env/lib/python3.12/site-packages (from gradio_client) (2025.5.1)\n",
      "Requirement already satisfied: httpx in /Users/rong/Desktop/repos/fastai-lesson2/.env/lib/python3.12/site-packages (from gradio_client) (0.28.1)\n",
      "Requirement already satisfied: huggingface-hub>=0.13.0 in /Users/rong/Desktop/repos/fastai-lesson2/.env/lib/python3.12/site-packages (from gradio_client) (0.32.4)\n",
      "Requirement already satisfied: packaging in /Users/rong/Desktop/repos/fastai-lesson2/.env/lib/python3.12/site-packages (from gradio_client) (25.0)\n",
      "Requirement already satisfied: requests~=2.0 in /Users/rong/Desktop/repos/fastai-lesson2/.env/lib/python3.12/site-packages (from gradio_client) (2.32.3)\n",
      "Requirement already satisfied: typing-extensions~=4.0 in /Users/rong/Desktop/repos/fastai-lesson2/.env/lib/python3.12/site-packages (from gradio_client) (4.14.0)\n",
      "Requirement already satisfied: websockets<12.0,>=10.0 in /Users/rong/Desktop/repos/fastai-lesson2/.env/lib/python3.12/site-packages (from gradio_client) (11.0.3)\n",
      "Requirement already satisfied: filelock in /Users/rong/Desktop/repos/fastai-lesson2/.env/lib/python3.12/site-packages (from huggingface-hub>=0.13.0->gradio_client) (3.18.0)\n",
      "Requirement already satisfied: pyyaml>=5.1 in /Users/rong/Desktop/repos/fastai-lesson2/.env/lib/python3.12/site-packages (from huggingface-hub>=0.13.0->gradio_client) (6.0.2)\n",
      "Requirement already satisfied: tqdm>=4.42.1 in /Users/rong/Desktop/repos/fastai-lesson2/.env/lib/python3.12/site-packages (from huggingface-hub>=0.13.0->gradio_client) (4.67.1)\n",
      "Requirement already satisfied: hf-xet<2.0.0,>=1.1.2 in /Users/rong/Desktop/repos/fastai-lesson2/.env/lib/python3.12/site-packages (from huggingface-hub>=0.13.0->gradio_client) (1.1.3)\n",
      "Requirement already satisfied: charset-normalizer<4,>=2 in /Users/rong/Desktop/repos/fastai-lesson2/.env/lib/python3.12/site-packages (from requests~=2.0->gradio_client) (3.4.2)\n",
      "Requirement already satisfied: idna<4,>=2.5 in /Users/rong/Desktop/repos/fastai-lesson2/.env/lib/python3.12/site-packages (from requests~=2.0->gradio_client) (3.10)\n",
      "Requirement already satisfied: urllib3<3,>=1.21.1 in /Users/rong/Desktop/repos/fastai-lesson2/.env/lib/python3.12/site-packages (from requests~=2.0->gradio_client) (2.4.0)\n",
      "Requirement already satisfied: certifi>=2017.4.17 in /Users/rong/Desktop/repos/fastai-lesson2/.env/lib/python3.12/site-packages (from requests~=2.0->gradio_client) (2025.4.26)\n",
      "Requirement already satisfied: anyio in /Users/rong/Desktop/repos/fastai-lesson2/.env/lib/python3.12/site-packages (from httpx->gradio_client) (4.9.0)\n",
      "Requirement already satisfied: httpcore==1.* in /Users/rong/Desktop/repos/fastai-lesson2/.env/lib/python3.12/site-packages (from httpx->gradio_client) (1.0.9)\n",
      "Requirement already satisfied: h11>=0.16 in /Users/rong/Desktop/repos/fastai-lesson2/.env/lib/python3.12/site-packages (from httpcore==1.*->httpx->gradio_client) (0.16.0)\n",
      "Requirement already satisfied: sniffio>=1.1 in /Users/rong/Desktop/repos/fastai-lesson2/.env/lib/python3.12/site-packages (from anyio->httpx->gradio_client) (1.3.1)\n",
      "\n",
      "\u001b[1m[\u001b[0m\u001b[34;49mnotice\u001b[0m\u001b[1;39;49m]\u001b[0m\u001b[39;49m A new release of pip is available: \u001b[0m\u001b[31;49m24.2\u001b[0m\u001b[39;49m -> \u001b[0m\u001b[32;49m25.1.1\u001b[0m\n",
      "\u001b[1m[\u001b[0m\u001b[34;49mnotice\u001b[0m\u001b[1;39;49m]\u001b[0m\u001b[39;49m To update, run: \u001b[0m\u001b[32;49mpip install --upgrade pip\u001b[0m\n"
     ]
    }
   ],
   "source": [
    "!pip install gradio_client"
   ]
  },
  {
   "cell_type": "code",
   "execution_count": 9,
   "metadata": {},
   "outputs": [
    {
     "ename": "SyntaxError",
     "evalue": "invalid decimal literal (3454514642.py, line 10)",
     "output_type": "error",
     "traceback": [
      "  \u001b[36mCell\u001b[39m\u001b[36m \u001b[39m\u001b[32mIn[9]\u001b[39m\u001b[32m, line 10\u001b[39m\n\u001b[31m    \u001b[39m\u001b[31mborder: 2px dashed #4a5568;\u001b[39m\n            ^\n\u001b[31mSyntaxError\u001b[39m\u001b[31m:\u001b[39m invalid decimal literal\n"
     ]
    }
   ],
   "source": [
    "<!DOCTYPE html>\n",
    "<html lang=\"en\">\n",
    "<head>\n",
    "    <meta charset=\"UTF-8\">\n",
    "    <meta name=\"viewport\" content=\"width=device-width, initial-scale=1.0\">\n",
    "    <title>Cat/Dog Classifier</title>\n",
    "    <link href=\"https://cdn.jsdelivr.net/npm/tailwindcss@2.2.19/dist/tailwind.min.css\" rel=\"stylesheet\">\n",
    "    <style>\n",
    "        .drop-zone {\n",
    "            border: 2px dashed #4a5568;\n",
    "            transition: all 0.3s ease;\n",
    "        }\n",
    "        .drop-zone:hover {\n",
    "            border-color: #2d3748;\n",
    "            background-color: #f7fafc;\n",
    "        }\n",
    "        .loading {\n",
    "            display: none;\n",
    "        }\n",
    "        .loading.active {\n",
    "            display: block;\n",
    "        }\n",
    "    </style>\n",
    "</head>\n",
    "<body class=\"bg-gray-100 min-h-screen\">\n",
    "    <div class=\"container mx-auto px-4 py-8\">\n",
    "        <div class=\"max-w-2xl mx-auto\">\n",
    "            <h1 class=\"text-4xl font-bold text-center mb-8 text-gray-800\">Cat/Dog Classifier</h1>\n",
    "            \n",
    "            <div class=\"bg-white rounded-lg shadow-lg p-6\">\n",
    "                <div id=\"dropZone\" class=\"drop-zone rounded-lg p-8 text-center cursor-pointer mb-6\">\n",
    "                    <div class=\"text-gray-600\">\n",
    "                        <p class=\"text-lg mb-2\">Drag and drop an image here</p>\n",
    "                        <p class=\"text-sm\">or</p>\n",
    "                        <input type=\"file\" id=\"fileInput\" class=\"hidden\" accept=\"image/*\">\n",
    "                        <button onclick=\"document.getElementById('fileInput').click()\" class=\"mt-2 px-4 py-2 bg-blue-500 text-white rounded hover:bg-blue-600 transition\">\n",
    "                            Choose File\n",
    "                        </button>\n",
    "                    </div>\n",
    "                </div>\n",
    "\n",
    "                <div id=\"preview\" class=\"hidden mb-6\">\n",
    "                    <img id=\"previewImage\" class=\"max-w-full h-auto rounded-lg\" src=\"\" alt=\"Preview\">\n",
    "                </div>\n",
    "\n",
    "                <div id=\"loading\" class=\"loading text-center mb-6\">\n",
    "                    <div class=\"inline-block animate-spin rounded-full h-8 w-8 border-4 border-blue-500 border-t-transparent\"></div>\n",
    "                    <p class=\"mt-2 text-gray-600\">Analyzing image...</p>\n",
    "                </div>\n",
    "\n",
    "                <div id=\"results\" class=\"hidden\">\n",
    "                    <h2 class=\"text-xl font-semibold mb-4 text-gray-800\">Results</h2>\n",
    "                    <div id=\"predictions\" class=\"space-y-2\"></div>\n",
    "                </div>\n",
    "            </div>\n",
    "        </div>\n",
    "    </div>\n",
    "\n",
    "    <script src=\"https://cdn.jsdelivr.net/npm/@gradio/client@0.6.1/dist/index.min.js\"></script>\n",
    "    <script src=\"app.js\"></script>\n",
    "</body>\n",
    "</html>"
   ]
  },
  {
   "cell_type": "code",
   "execution_count": 11,
   "metadata": {},
   "outputs": [
    {
     "ename": "SyntaxError",
     "evalue": "invalid syntax (3048738539.py, line 2)",
     "output_type": "error",
     "traceback": [
      "  \u001b[36mCell\u001b[39m\u001b[36m \u001b[39m\u001b[32mIn[11]\u001b[39m\u001b[32m, line 2\u001b[39m\n\u001b[31m    \u001b[39m\u001b[31mconst client = new window.gradio.Client(\"https://f4b271e3755c527535.gradio.live\");\u001b[39m\n          ^\n\u001b[31mSyntaxError\u001b[39m\u001b[31m:\u001b[39m invalid syntax\n"
     ]
    },
    {
     "data": {
      "text/html": [
       "\n",
       "<style>\n",
       "    /* Turns off some styling */\n",
       "    progress {\n",
       "        /* gets rid of default border in Firefox and Opera. */\n",
       "        border: none;\n",
       "        /* Needs to be in here for Safari polyfill so background images work as expected. */\n",
       "        background-size: auto;\n",
       "    }\n",
       "    progress:not([value]), progress:not([value])::-webkit-progress-bar {\n",
       "        background: repeating-linear-gradient(45deg, #7e7e7e, #7e7e7e 10px, #5c5c5c 10px, #5c5c5c 20px);\n",
       "    }\n",
       "    .progress-bar-interrupted, .progress-bar-interrupted::-webkit-progress-bar {\n",
       "        background: #F44336;\n",
       "    }\n",
       "</style>\n"
      ],
      "text/plain": [
       "<IPython.core.display.HTML object>"
      ]
     },
     "metadata": {},
     "output_type": "display_data"
    },
    {
     "data": {
      "text/html": [],
      "text/plain": [
       "<IPython.core.display.HTML object>"
      ]
     },
     "metadata": {},
     "output_type": "display_data"
    },
    {
     "data": {
      "text/html": [
       "\n",
       "<style>\n",
       "    /* Turns off some styling */\n",
       "    progress {\n",
       "        /* gets rid of default border in Firefox and Opera. */\n",
       "        border: none;\n",
       "        /* Needs to be in here for Safari polyfill so background images work as expected. */\n",
       "        background-size: auto;\n",
       "    }\n",
       "    progress:not([value]), progress:not([value])::-webkit-progress-bar {\n",
       "        background: repeating-linear-gradient(45deg, #7e7e7e, #7e7e7e 10px, #5c5c5c 10px, #5c5c5c 20px);\n",
       "    }\n",
       "    .progress-bar-interrupted, .progress-bar-interrupted::-webkit-progress-bar {\n",
       "        background: #F44336;\n",
       "    }\n",
       "</style>\n"
      ],
      "text/plain": [
       "<IPython.core.display.HTML object>"
      ]
     },
     "metadata": {},
     "output_type": "display_data"
    },
    {
     "data": {
      "text/html": [],
      "text/plain": [
       "<IPython.core.display.HTML object>"
      ]
     },
     "metadata": {},
     "output_type": "display_data"
    }
   ],
   "source": [
    "# Initialize Gradio client\n",
    "const client = new window.gradio.Client(\"https://f4b271e3755c527535.gradio.live\");\n",
    "\n",
    "# DOM elements\n",
    "const dropZone = document.getElementById('dropZone');\n",
    "const fileInput = document.getElementById('fileInput');\n",
    "const preview = document.getElementById('preview');\n",
    "const previewImage = document.getElementById('previewImage');\n",
    "const loading = document.getElementById('loading');\n",
    "const results = document.getElementById('results');\n",
    "const predictions = document.getElementById('predictions');\n",
    "\n",
    "# Handle drag and drop\n",
    "dropZone.addEventListener('dragover', (e) => {\n",
    "    e.preventDefault();\n",
    "    dropZone.classList.add('border-blue-500');\n",
    "});\n",
    "\n",
    "dropZone.addEventListener('dragleave', () => {\n",
    "    dropZone.classList.remove('border-blue-500');\n",
    "});\n",
    "\n",
    "dropZone.addEventListener('drop', (e) => {\n",
    "    e.preventDefault();\n",
    "    dropZone.classList.remove('border-blue-500');\n",
    "    const file = e.dataTransfer.files[0];\n",
    "    if (file && file.type.startsWith('image/')) {\n",
    "        handleImage(file);\n",
    "    }\n",
    "});\n",
    "\n",
    "# Handle file input\n",
    "fileInput.addEventListener('change', (e) => {\n",
    "    const file = e.target.files[0];\n",
    "    if (file) {\n",
    "        handleImage(file);\n",
    "    }\n",
    "});\n",
    "\n",
    "// Handle image preview and prediction\n",
    "async function handleImage(file) {\n",
    "    // Show preview\n",
    "    const reader = new FileReader();\n",
    "    reader.onload = (e) => {\n",
    "        previewImage.src = e.target.result;\n",
    "        preview.classList.remove('hidden');\n",
    "    };\n",
    "    reader.readAsDataURL(file);\n",
    "\n",
    "    // Show loading\n",
    "    loading.classList.add('active');\n",
    "    results.classList.add('hidden');\n",
    "\n",
    "    try {\n",
    "        // Convert file to base64\n",
    "        const base64 = await fileToBase64(file);\n",
    "        \n",
    "        // Make prediction\n",
    "        const result = await client.predict(base64);\n",
    "        \n",
    "        // Display results\n",
    "        displayResults(result);\n",
    "    } catch (error) {\n",
    "        console.error('Error:', error);\n",
    "        predictions.innerHTML = `\n",
    "            <div class=\"p-4 bg-red-100 text-red-700 rounded\">\n",
    "                Error: ${error.message}\n",
    "            </div>\n",
    "        `;\n",
    "    } finally {\n",
    "        loading.classList.remove('active');\n",
    "        results.classList.remove('hidden');\n",
    "    }\n",
    "}\n",
    "\n",
    "# Convert file to base64\n",
    "function fileToBase64(file) {\n",
    "    return new Promise((resolve, reject) => {\n",
    "        const reader = new FileReader();\n",
    "        reader.readAsDataURL(file);\n",
    "        reader.onload = () => {\n",
    "            // Remove the data URL prefix (e.g., \"data:image/jpeg;base64,\")\n",
    "            const base64 = reader.result.split(',')[1];\n",
    "            resolve(base64);\n",
    "        };\n",
    "        reader.onerror = error => reject(error);\n",
    "    });\n",
    "}\n",
    "\n",
    "# Display prediction results\n",
    "function displayResults(result) {\n",
    "    predictions.innerHTML = '';\n",
    "    \n",
    "    // Sort predictions by probability\n",
    "    const sortedPredictions = Object.entries(result)\n",
    "        .sort(([,a], [,b]) => b - a);\n",
    "    \n",
    "    sortedPredictions.forEach(([label, probability]) => {\n",
    "        const percentage = (probability * 100).toFixed(1);\n",
    "        const barWidth = percentage + '%';\n",
    "        \n",
    "        predictions.innerHTML += `\n",
    "            <div class=\"p-4 bg-gray-50 rounded\">\n",
    "                <div class=\"flex justify-between mb-1\">\n",
    "                    <span class=\"font-medium\">${label}</span>\n",
    "                    <span>${percentage}%</span>\n",
    "                </div>\n",
    "                <div class=\"w-full bg-gray-200 rounded-full h-2.5\">\n",
    "                    <div class=\"bg-blue-500 h-2.5 rounded-full\" style=\"width: ${barWidth}\"></div>\n",
    "                </div>\n",
    "            </div>\n",
    "        `;\n",
    "    });\n",
    "}"
   ]
  }
 ],
 "metadata": {
  "kernelspec": {
   "display_name": ".env",
   "language": "python",
   "name": "python3"
  },
  "language_info": {
   "codemirror_mode": {
    "name": "ipython",
    "version": 3
   },
   "file_extension": ".py",
   "mimetype": "text/x-python",
   "name": "python",
   "nbconvert_exporter": "python",
   "pygments_lexer": "ipython3",
   "version": "3.12.7"
  }
 },
 "nbformat": 4,
 "nbformat_minor": 2
}
